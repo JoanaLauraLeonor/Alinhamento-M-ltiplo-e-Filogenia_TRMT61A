{
 "cells": [
  {
   "cell_type": "markdown",
   "metadata": {},
   "source": [
    "Homologia_Alinhamento_Sequência_Proteica_TRMT61A\n",
    "Atenção: Para o código apresentado em baixo sobre a homologia e os alinhamentos relativos à sequência proteica codificada pelo gene TRMT61A, teve-se em consideração o ficheiro fasta “sequence_TRMT61A_proteina.fasta”.\n",
    "Para a elaboração do código apresentado, recorreu-se ao tutorial do Biopython e a srcipts sobre a parte da homologia e dos alinhamentos que se encontravam em alguns exercicíos das fichas desta Unidade Curricular, resolvidas por alunos dos anos anteriores. Adaptou-se toda a informação, quer do tutorial quer das scripts ( utilizadas para a resolução dos exercicíos sobre a homologia e os alinhamentos) ao gene de interesse- gene TRMT61A."
   ]
  },
  {
   "cell_type": "markdown",
   "metadata": {},
   "source": [
    "1.Gravou-se/Abriu-se o ficheiro “sequence_TRMT61A_proteina.fasta” que contém a sequência da proteína codificada pelo gene ELP4. Carregou-se o ficheiro em formato Fasta e, posteriormente, verificou-se o tamanho da proteína codificada pelo gene ELP4 - proteína que tem 289 aminoácidos.\n",
    "No código apresentado em baixo utilizou-se dois módulos do Biopython: o Bio.Blast e o Bio.SeqIo"
   ]
  },
  {
   "cell_type": "code",
   "execution_count": 1,
   "metadata": {},
   "outputs": [
    {
     "name": "stdout",
     "output_type": "stream",
     "text": [
      "289\n"
     ]
    }
   ],
   "source": [
    "from Bio.Blast import NCBIXML \n",
    "from Bio.Blast import NCBIWWW \n",
    "from Bio import SeqIO\n",
    "from Bio import Entrez\n",
    "Entrez.email = \"joanafigueiredo2014@gmail.com\" \n",
    "seqrecord = SeqIO.read(open(\"sequence_TRMT61A_proteina.fasta\"), format=\"fasta\")\n",
    "print (len(seqrecord.seq)) \n",
    "#.seq, serve para ir buscar uma sequencia do \"ficheiro dado\" para o ficheiro \"seq\" que por sua vez é novo"
   ]
  },
  {
   "cell_type": "markdown",
   "metadata": {},
   "source": [
    "2.No código apresentado a baixo usou-se novamente o módulo do BioPython:Bio.Blast. Posteriormente, efectou-se uma pesquisa por sequências similares no Blast, usando a base de dados “swissprot”, e gravou-se todas essas sequências num ficheiro XML."
   ]
  },
  {
   "cell_type": "code",
   "execution_count": 2,
   "metadata": {},
   "outputs": [],
   "source": [
    "from Bio.Blast import NCBIWWW \n",
    "result_handle = NCBIWWW.qblast(\"blastp\", \"swissprot\", seqrecord.format(\"fasta\"))\n",
    "#A execução de BLAST online pela classe NCBIWWW requer como entrada a versão do BLAST utilizada para busca \n",
    "#(blastn, blastp, blastx ou tblastn), além da base de dados, a sequência armazenada no objeto que recebeu o arquivo FASTA de \n",
    "#busca e um tipo de formato para saída dos dados.\n",
    "save_file = open(\"blast_TRMT61A.xml\", \"w\") #'w' permite escrever no ficheiro  e \".xml\" permite gravar o ficheiro nesse tipo\n",
    "save_file.write(result_handle.read())\n",
    "save_file.close()\n",
    "result_handle.close()"
   ]
  },
  {
   "cell_type": "markdown",
   "metadata": {},
   "source": [
    "3.Realize o parsing do ficheiro anterior com as funções do BioPython. Analise os parâmetros globais da pesquisa, verificando: a base de dados usada, a matriz de substituição e os parâmetros para os espaçamentos."
   ]
  },
  {
   "cell_type": "code",
   "execution_count": 3,
   "metadata": {},
   "outputs": [
    {
     "name": "stdout",
     "output_type": "stream",
     "text": [
      "PARAMETERS:\n",
      "Database: swissprot_v5\n",
      "Matrix: BLOSUM62\n",
      "Gap penalties:  (11, 1)\n"
     ]
    }
   ],
   "source": [
    "from Bio.Blast import NCBIXML \n",
    "result_handle = open(\"blast_TRMT61A.xml\") #abrir o ficheiro anterior\n",
    "record = NCBIXML.read(result_handle) #faz o parsing\n",
    "print (\"PARAMETERS:\")    #print permite depois fazer a verificação do que é pedido\n",
    "print (\"Database: \" + record.database)\n",
    "print (\"Matrix: \" + record.matrix)\n",
    "print (\"Gap penalties: \", record.gap_penalties)\n",
    "\n",
    "#parsing de um ficheiro é ler o \"valor de um objeto e converte-lo num outro tipo de objeto\""
   ]
  },
  {
   "cell_type": "markdown",
   "metadata": {},
   "source": [
    "4.Identificou-se a lista de accession numbers, os e-values e os comprimentos do alinhamento para todos os alinhamentos devolvidos pela pesquisa anterior."
   ]
  },
  {
   "cell_type": "code",
   "execution_count": 4,
   "metadata": {},
   "outputs": [
    {
     "name": "stdout",
     "output_type": "stream",
     "text": [
      "number hits: 50\n",
      "E-values and length of alignments:\n",
      "Q96FX7-0.0length:289\n",
      "A6H791-0.0length:289\n",
      "Q6AY46-0.0length:290\n",
      "Q80XC2-0.0length:290\n",
      "Q86JJ0-7.14351e-65length:309\n",
      "Q5A416-4.49666e-63length:335\n",
      "P0CS08-1.60357e-62length:243\n",
      "Q755M8-2.57282e-60length:265\n",
      "O14307-7.59496e-59length:240\n",
      "Q6CN53-1.0223e-58length:266\n",
      "Q6BX32-2.22688e-57length:254\n",
      "P46959-1.47583e-55length:263\n",
      "Q6FL77-1.56815e-54length:263\n",
      "Q6C0P9-2.17114e-53length:245\n",
      "Q2U3W4-2.76873e-37length:244\n",
      "Q4WUT7-3.41341e-37length:247\n",
      "Q9V1J7-3.38478e-22length:278\n",
      "P9WFZ0-8.21266e-16length:239\n",
      "Q57598-1.91806e-13length:207\n",
      "Q5SKN4-1.53511e-07length:191\n",
      "Q8GBB2-5.46651e-07length:175\n",
      "Q9BVS5-2.95421e-05length:198\n",
      "O26915-5.31033e-05length:79\n",
      "C3MJI5-0.000193134length:175\n",
      "C3NJQ5-0.00026302length:175\n",
      "A8AAV7-0.000744896length:73\n",
      "Q8TYL4-0.00146371length:99\n",
      "A2BKH8-0.00337233length:106\n",
      "A6UWM1-0.00770405length:115\n",
      "Q12A85-0.0193733length:60\n",
      "A3DMG3-0.0199371length:77\n",
      "B8ZQZ1-0.0200159length:93\n",
      "C4L423-0.0268443length:131\n",
      "A1KI08-0.0283453length:93\n",
      "Q2EMV9-0.0290987length:85\n",
      "A9BH07-0.0295283length:62\n",
      "A0B9U1-0.0333012length:61\n",
      "Q8TT94-0.0420177length:59\n",
      "Q8ZYN0-0.0531078length:80\n",
      "A1RSC6-0.0622783length:92\n",
      "Q8PW90-0.0713209length:59\n",
      "Q97WC7-0.142273length:175\n",
      "A5G6S0-0.146145length:59\n",
      "O27962-0.15008length:81\n",
      "Q9YDA1-0.176828length:59\n",
      "Q8ZTI9-0.200039length:154\n",
      "A4WNC5-0.237578length:80\n",
      "O87694-0.300527length:180\n",
      "A3MV65-0.343494length:154\n",
      "Q3JAW6-0.3876length:57\n"
     ]
    }
   ],
   "source": [
    "#accession numbers - identificador único dado a uma sequência de polímero biológico (DNA, proteína)\n",
    "#quando é submetido a um banco de dados de sequências\n",
    "# e-value - probabilidade de alinhamento aleatório: \n",
    "#(cálculo estatístico- baseado na qualidade do alinhamento (a pontuação) e no tamanho do banco de dados.)\n",
    "\n",
    "nhits = len (record.alignments)\n",
    "print(\"number hits:\",nhits)\n",
    "res = [] \n",
    "for alignment in record.alignments:\n",
    "    evalue= alignment.hsps[0].expect\n",
    "    accession = alignment.accession\n",
    "    leng = alignment.hsps[0].align_length\n",
    "    res.append (accession + \"-\" + str(evalue) + \"length:\" + str(leng))\n",
    "    \n",
    "print (\"E-values and length of alignments:\")\n",
    "for s in res: print(s)"
   ]
  },
  {
   "cell_type": "markdown",
   "metadata": {},
   "source": [
    "5.Repetiu-se o processo de Blast mencionado em cima mas agora restringindo a pesquisa ao organismo \"Homo Sapiens\" (na função qblast usou-se o argumento entrez_query = \"Homo Sapiens[organism]\") e gravou-se os resultados desse alinhamento.\n",
    "O procedimento é repetido para o  e os resultados são novamente guardados em ficheiro .xml."
   ]
  },
  {
   "cell_type": "code",
   "execution_count": 5,
   "metadata": {},
   "outputs": [],
   "source": [
    "#blast para Homo Sapiens apenas\n",
    "result_handle2 = NCBIWWW.qblast(\"blastp\", \"swissprot\", seqrecord.format(\"fasta\"), entrez_query = \"Homo sapiens[organism]\" )\n",
    "save_file = open(\"blast_TRMT61A.xml\", \"w\")\n",
    "save_file.write(result_handle2.read()) \n",
    "save_file.close() \n",
    "result_handle2.close()"
   ]
  },
  {
   "cell_type": "markdown",
   "metadata": {},
   "source": [
    "6.Analisou-se os resultados obtidos no ponto anterior - ponto 5, nomeadamente o alinhamento com menor e-value (primeiro resultado da lista). Identificou-se também o accession (registo da Uniprot da sequência obtida), a sua descrição e o número de HSPs. \n",
    "Verificou-se o alinhamento obtido para cada HSP, verificando também o início do HSP na query e na sequência que é homóloga(sbjct). Na estrutura de um HSP também se tem acesso aos atributos query_start e sbjct_start."
   ]
  },
  {
   "cell_type": "code",
   "execution_count": 7,
   "metadata": {},
   "outputs": [
    {
     "name": "stdout",
     "output_type": "stream",
     "text": [
      "Accession: Q96FX7\n",
      "Hit id: sp|Q96FX7.1|\n",
      "Definition: RecName: Full=tRNA (adenine(58)-N(1))-methyltransferase catalytic subunit TRMT61A; AltName: Full=mRNA methyladenosine-N(1)-methyltransferase catalytic subunit TRMT61A; AltName: Full=tRNA(m1A58)-methyltransferase subunit TRMT61A; Short=tRNA(m1A58)MTase subunit TRMT61A [Homo sapiens]\n",
      "Number of HSPs:  1\n",
      "E-value:  0.0\n",
      "Length:  289\n",
      "Identities:  289\n",
      "Query start:  1\n",
      "Sbjct start:  1\n",
      "MSFVAYEELIKEGDTAILSLGHGAMVAVRVQRGAQTQTRHGVLRHSVDLIGRPFGSKVTCGRGGWVYVLHPTPELWTLNLPHRTQILYST\n",
      "MSFVAYEELIKEGDTAILSLGHGAMVAVRVQRGAQTQTRHGVLRHSVDLIGRPFGSKVTCGRGGWVYVLHPTPELWTLNLPHRTQILYST\n",
      "MSFVAYEELIKEGDTAILSLGHGAMVAVRVQRGAQTQTRHGVLRHSVDLIGRPFGSKVTCGRGGWVYVLHPTPELWTLNLPHRTQILYST\n"
     ]
    }
   ],
   "source": [
    "#análise dos resultados\n",
    "from Bio.Blast import NCBIXML\n",
    "result_handle2 = open(\"blast_TRMT61A.xml\")\n",
    "record2 = NCBIXML.read(result_handle2)\n",
    "first_alignment = record2.alignments[0]\n",
    "print (\"Accession: \" + first_alignment.accession)\n",
    "print (\"Hit id: \" + first_alignment.hit_id)\n",
    "print (\"Definition: \" + first_alignment.hit_def)\n",
    "print (\"Number of HSPs: \", len(first_alignment.hsps))\n",
    "for hsp in first_alignment.hsps:\n",
    "    print (\"E-value: \", hsp.expect)\n",
    "    print (\"Length: \", hsp.align_length)\n",
    "    print (\"Identities: \", hsp.identities)\n",
    "    print (\"Query start: \", hsp.query_start)\n",
    "    print (\"Sbjct start: \", hsp.sbjct_start)\n",
    "    print (hsp.query[0:90])\n",
    "    print (hsp.match[0:90])\n",
    "    print (hsp.sbjct[0:90])"
   ]
  },
  {
   "cell_type": "markdown",
   "metadata": {},
   "source": [
    "Os passos 1,2 e 4 permitem obter todas as sequências homólogas à sequência da proteína codificada pelo gene TRMT61A com base na base de dados Swissprot. Estas sequências, posteriormente, no seu formato fasta, podem funcionar como input em programas que efetuam o alinhamento de sequências e a contrução de árvores filogenéticas como o MEGAX. Foi este o programa utilizado por nós para a elaboração do alinhamento e da filogenia."
   ]
  }
 ],
 "metadata": {
  "kernelspec": {
   "display_name": "Python 3",
   "language": "python",
   "name": "python3"
  },
  "language_info": {
   "codemirror_mode": {
    "name": "ipython",
    "version": 3
   },
   "file_extension": ".py",
   "mimetype": "text/x-python",
   "name": "python",
   "nbconvert_exporter": "python",
   "pygments_lexer": "ipython3",
   "version": "3.7.3"
  }
 },
 "nbformat": 4,
 "nbformat_minor": 2
}
